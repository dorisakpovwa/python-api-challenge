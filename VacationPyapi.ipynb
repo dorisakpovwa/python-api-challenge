{
 "cells": [
  {
   "cell_type": "markdown",
   "metadata": {},
   "source": [
    "SECTION 1: Import libraries"
   ]
  },
  {
   "cell_type": "code",
   "execution_count": 1,
   "metadata": {},
   "outputs": [
    {
     "ename": "ModuleNotFoundError",
     "evalue": "No module named 'config'",
     "output_type": "error",
     "traceback": [
      "\u001b[1;31m---------------------------------------------------------------------------\u001b[0m",
      "\u001b[1;31mModuleNotFoundError\u001b[0m                       Traceback (most recent call last)",
      "\u001b[1;32m<ipython-input-1-7b805b5f574d>\u001b[0m in \u001b[0;36m<module>\u001b[1;34m\u001b[0m\n\u001b[0;32m     13\u001b[0m \u001b[1;32mimport\u001b[0m \u001b[0mipywidgets\u001b[0m \u001b[1;32mas\u001b[0m \u001b[0mwidgets\u001b[0m\u001b[1;33m\u001b[0m\u001b[1;33m\u001b[0m\u001b[0m\n\u001b[0;32m     14\u001b[0m \u001b[1;31m#Google developer API key\u001b[0m\u001b[1;33m\u001b[0m\u001b[1;33m\u001b[0m\u001b[1;33m\u001b[0m\u001b[0m\n\u001b[1;32m---> 15\u001b[1;33m \u001b[1;32mfrom\u001b[0m \u001b[0mconfig\u001b[0m \u001b[1;32mimport\u001b[0m \u001b[0mapi_key_ggle\u001b[0m \u001b[1;32mas\u001b[0m \u001b[0mgkey\u001b[0m\u001b[1;33m\u001b[0m\u001b[1;33m\u001b[0m\u001b[0m\n\u001b[0m\u001b[0;32m     16\u001b[0m \u001b[1;31m#from citipy import citipy\u001b[0m\u001b[1;33m\u001b[0m\u001b[1;33m\u001b[0m\u001b[1;33m\u001b[0m\u001b[0m\n\u001b[0;32m     17\u001b[0m \u001b[0mget_ipython\u001b[0m\u001b[1;33m(\u001b[0m\u001b[1;33m)\u001b[0m\u001b[1;33m.\u001b[0m\u001b[0mrun_line_magic\u001b[0m\u001b[1;33m(\u001b[0m\u001b[1;34m'matplotlib'\u001b[0m\u001b[1;33m,\u001b[0m \u001b[1;34m'inline'\u001b[0m\u001b[1;33m)\u001b[0m\u001b[1;33m\u001b[0m\u001b[1;33m\u001b[0m\u001b[0m\n",
      "\u001b[1;31mModuleNotFoundError\u001b[0m: No module named 'config'"
     ]
    }
   ],
   "source": [
    "#Import Libraries & Dependencies\n",
    "import pandas as pd\n",
    "import numpy as np\n",
    "import matplotlib.pyplot as plt\n",
    "import requests\n",
    "import os\n",
    "import gmaps\n",
    "import scipy.stats as sts\n",
    "from pprint import pprint\n",
    "import ipywidgets as widgets\n",
    "import warnings\n",
    "warnings.filterwarnings('ignore')\n",
    "import ipywidgets as widgets\n",
    "#Google developer API key\n",
    "from config import api_key_ggle as gkey\n",
    "#from citipy import citipy\n",
    "%matplotlib inline"
   ]
  },
  {
   "cell_type": "markdown",
   "metadata": {},
   "source": [
    "SECTION 2: Load csv files from part 1 output -  Weatherapi "
   ]
  },
  {
   "cell_type": "code",
   "execution_count": null,
   "metadata": {},
   "outputs": [],
   "source": [
    "#Load CSV containing \n",
    "path = os.path.join('..','Weatherapi','weatherhome.csv')\n",
    "crime = pd.read_csv(path)\n",
    "crime.head()"
   ]
  },
  {
   "cell_type": "code",
   "execution_count": 1,
   "metadata": {},
   "outputs": [
    {
     "name": "stdout",
     "output_type": "stream",
     "text": [
      "Requirement already satisfied: gmaps in c:\\users\\doris\\anaconda3\\lib\\site-packages (0.9.0)\n",
      "Requirement already satisfied: six in c:\\users\\doris\\anaconda3\\lib\\site-packages (from gmaps) (1.15.0)\n",
      "Requirement already satisfied: ipython>=5.3.0 in c:\\users\\doris\\anaconda3\\lib\\site-packages (from gmaps) (7.19.0)\n",
      "Requirement already satisfied: traitlets>=4.3.0 in c:\\users\\doris\\anaconda3\\lib\\site-packages (from gmaps) (5.0.5)\n",
      "Requirement already satisfied: ipywidgets>=7.0.0 in c:\\users\\doris\\anaconda3\\lib\\site-packages (from gmaps) (7.5.1)\n",
      "Requirement already satisfied: geojson>=2.0.0 in c:\\users\\doris\\anaconda3\\lib\\site-packages (from gmaps) (2.5.0)\n",
      "Requirement already satisfied: setuptools>=18.5 in c:\\users\\doris\\anaconda3\\lib\\site-packages (from ipython>=5.3.0->gmaps) (50.3.1.post20201107)\n",
      "Requirement already satisfied: pygments in c:\\users\\doris\\anaconda3\\lib\\site-packages (from ipython>=5.3.0->gmaps) (2.7.2)\n",
      "Requirement already satisfied: decorator in c:\\users\\doris\\anaconda3\\lib\\site-packages (from ipython>=5.3.0->gmaps) (4.4.2)\n",
      "Requirement already satisfied: backcall in c:\\users\\doris\\anaconda3\\lib\\site-packages (from ipython>=5.3.0->gmaps) (0.2.0)\n",
      "Requirement already satisfied: prompt-toolkit!=3.0.0,!=3.0.1,<3.1.0,>=2.0.0 in c:\\users\\doris\\anaconda3\\lib\\site-packages (from ipython>=5.3.0->gmaps) (3.0.8)\n",
      "Requirement already satisfied: colorama; sys_platform == \"win32\" in c:\\users\\doris\\anaconda3\\lib\\site-packages (from ipython>=5.3.0->gmaps) (0.4.4)\n",
      "Requirement already satisfied: jedi>=0.10 in c:\\users\\doris\\anaconda3\\lib\\site-packages (from ipython>=5.3.0->gmaps) (0.17.1)\n",
      "Requirement already satisfied: pickleshare in c:\\users\\doris\\anaconda3\\lib\\site-packages (from ipython>=5.3.0->gmaps) (0.7.5)\n",
      "Requirement already satisfied: ipython-genutils in c:\\users\\doris\\anaconda3\\lib\\site-packages (from traitlets>=4.3.0->gmaps) (0.2.0)\n",
      "Requirement already satisfied: nbformat>=4.2.0 in c:\\users\\doris\\anaconda3\\lib\\site-packages (from ipywidgets>=7.0.0->gmaps) (5.0.8)\n",
      "Requirement already satisfied: widgetsnbextension~=3.5.0 in c:\\users\\doris\\anaconda3\\lib\\site-packages (from ipywidgets>=7.0.0->gmaps) (3.5.1)\n",
      "Requirement already satisfied: ipykernel>=4.5.1 in c:\\users\\doris\\anaconda3\\lib\\site-packages (from ipywidgets>=7.0.0->gmaps) (5.3.4)\n",
      "Requirement already satisfied: wcwidth in c:\\users\\doris\\anaconda3\\lib\\site-packages (from prompt-toolkit!=3.0.0,!=3.0.1,<3.1.0,>=2.0.0->ipython>=5.3.0->gmaps) (0.2.5)\n",
      "Requirement already satisfied: parso<0.8.0,>=0.7.0 in c:\\users\\doris\\anaconda3\\lib\\site-packages (from jedi>=0.10->ipython>=5.3.0->gmaps) (0.7.0)\n",
      "Requirement already satisfied: jupyter-core in c:\\users\\doris\\anaconda3\\lib\\site-packages (from nbformat>=4.2.0->ipywidgets>=7.0.0->gmaps) (4.6.3)\n",
      "Requirement already satisfied: jsonschema!=2.5.0,>=2.4 in c:\\users\\doris\\anaconda3\\lib\\site-packages (from nbformat>=4.2.0->ipywidgets>=7.0.0->gmaps) (3.2.0)\n",
      "Requirement already satisfied: notebook>=4.4.1 in c:\\users\\doris\\anaconda3\\lib\\site-packages (from widgetsnbextension~=3.5.0->ipywidgets>=7.0.0->gmaps) (6.1.4)\n",
      "Requirement already satisfied: jupyter-client in c:\\users\\doris\\anaconda3\\lib\\site-packages (from ipykernel>=4.5.1->ipywidgets>=7.0.0->gmaps) (6.1.7)\n",
      "Requirement already satisfied: tornado>=4.2 in c:\\users\\doris\\anaconda3\\lib\\site-packages (from ipykernel>=4.5.1->ipywidgets>=7.0.0->gmaps) (6.1)\n",
      "Requirement already satisfied: pywin32>=1.0; sys_platform == \"win32\" in c:\\users\\doris\\anaconda3\\lib\\site-packages (from jupyter-core->nbformat>=4.2.0->ipywidgets>=7.0.0->gmaps) (227)\n",
      "Requirement already satisfied: attrs>=17.4.0 in c:\\users\\doris\\anaconda3\\lib\\site-packages (from jsonschema!=2.5.0,>=2.4->nbformat>=4.2.0->ipywidgets>=7.0.0->gmaps) (20.3.0)\n",
      "Requirement already satisfied: pyrsistent>=0.14.0 in c:\\users\\doris\\anaconda3\\lib\\site-packages (from jsonschema!=2.5.0,>=2.4->nbformat>=4.2.0->ipywidgets>=7.0.0->gmaps) (0.17.3)\n",
      "Requirement already satisfied: terminado>=0.8.3 in c:\\users\\doris\\anaconda3\\lib\\site-packages (from notebook>=4.4.1->widgetsnbextension~=3.5.0->ipywidgets>=7.0.0->gmaps) (0.9.1)\n",
      "Requirement already satisfied: Send2Trash in c:\\users\\doris\\anaconda3\\lib\\site-packages (from notebook>=4.4.1->widgetsnbextension~=3.5.0->ipywidgets>=7.0.0->gmaps) (1.5.0)\n",
      "Requirement already satisfied: jinja2 in c:\\users\\doris\\anaconda3\\lib\\site-packages (from notebook>=4.4.1->widgetsnbextension~=3.5.0->ipywidgets>=7.0.0->gmaps) (2.11.2)\n",
      "Requirement already satisfied: prometheus-client in c:\\users\\doris\\anaconda3\\lib\\site-packages (from notebook>=4.4.1->widgetsnbextension~=3.5.0->ipywidgets>=7.0.0->gmaps) (0.8.0)\n",
      "Requirement already satisfied: argon2-cffi in c:\\users\\doris\\anaconda3\\lib\\site-packages (from notebook>=4.4.1->widgetsnbextension~=3.5.0->ipywidgets>=7.0.0->gmaps) (20.1.0)\n",
      "Requirement already satisfied: nbconvert in c:\\users\\doris\\anaconda3\\lib\\site-packages (from notebook>=4.4.1->widgetsnbextension~=3.5.0->ipywidgets>=7.0.0->gmaps) (6.0.7)\n",
      "Requirement already satisfied: pyzmq>=17 in c:\\users\\doris\\anaconda3\\lib\\site-packages (from notebook>=4.4.1->widgetsnbextension~=3.5.0->ipywidgets>=7.0.0->gmaps) (19.0.2)\n",
      "Requirement already satisfied: python-dateutil>=2.1 in c:\\users\\doris\\anaconda3\\lib\\site-packages (from jupyter-client->ipykernel>=4.5.1->ipywidgets>=7.0.0->gmaps) (2.8.1)\n",
      "Requirement already satisfied: pywinpty>=0.5 in c:\\users\\doris\\anaconda3\\lib\\site-packages (from terminado>=0.8.3->notebook>=4.4.1->widgetsnbextension~=3.5.0->ipywidgets>=7.0.0->gmaps) (0.5.7)\n",
      "Requirement already satisfied: MarkupSafe>=0.23 in c:\\users\\doris\\anaconda3\\lib\\site-packages (from jinja2->notebook>=4.4.1->widgetsnbextension~=3.5.0->ipywidgets>=7.0.0->gmaps) (1.1.1)\n",
      "Requirement already satisfied: cffi>=1.0.0 in c:\\users\\doris\\anaconda3\\lib\\site-packages (from argon2-cffi->notebook>=4.4.1->widgetsnbextension~=3.5.0->ipywidgets>=7.0.0->gmaps) (1.14.3)\n",
      "Requirement already satisfied: defusedxml in c:\\users\\doris\\anaconda3\\lib\\site-packages (from nbconvert->notebook>=4.4.1->widgetsnbextension~=3.5.0->ipywidgets>=7.0.0->gmaps) (0.6.0)\n",
      "Requirement already satisfied: nbclient<0.6.0,>=0.5.0 in c:\\users\\doris\\anaconda3\\lib\\site-packages (from nbconvert->notebook>=4.4.1->widgetsnbextension~=3.5.0->ipywidgets>=7.0.0->gmaps) (0.5.1)\n",
      "Requirement already satisfied: bleach in c:\\users\\doris\\anaconda3\\lib\\site-packages (from nbconvert->notebook>=4.4.1->widgetsnbextension~=3.5.0->ipywidgets>=7.0.0->gmaps) (3.2.1)\n",
      "Requirement already satisfied: entrypoints>=0.2.2 in c:\\users\\doris\\anaconda3\\lib\\site-packages (from nbconvert->notebook>=4.4.1->widgetsnbextension~=3.5.0->ipywidgets>=7.0.0->gmaps) (0.3)\n",
      "Requirement already satisfied: testpath in c:\\users\\doris\\anaconda3\\lib\\site-packages (from nbconvert->notebook>=4.4.1->widgetsnbextension~=3.5.0->ipywidgets>=7.0.0->gmaps) (0.4.4)\n",
      "Requirement already satisfied: jupyterlab-pygments in c:\\users\\doris\\anaconda3\\lib\\site-packages (from nbconvert->notebook>=4.4.1->widgetsnbextension~=3.5.0->ipywidgets>=7.0.0->gmaps) (0.1.2)\n",
      "Requirement already satisfied: pandocfilters>=1.4.1 in c:\\users\\doris\\anaconda3\\lib\\site-packages (from nbconvert->notebook>=4.4.1->widgetsnbextension~=3.5.0->ipywidgets>=7.0.0->gmaps) (1.4.3)\n",
      "Requirement already satisfied: mistune<2,>=0.8.1 in c:\\users\\doris\\anaconda3\\lib\\site-packages (from nbconvert->notebook>=4.4.1->widgetsnbextension~=3.5.0->ipywidgets>=7.0.0->gmaps) (0.8.4)\n",
      "Requirement already satisfied: pycparser in c:\\users\\doris\\anaconda3\\lib\\site-packages (from cffi>=1.0.0->argon2-cffi->notebook>=4.4.1->widgetsnbextension~=3.5.0->ipywidgets>=7.0.0->gmaps) (2.20)\n",
      "Requirement already satisfied: async-generator in c:\\users\\doris\\anaconda3\\lib\\site-packages (from nbclient<0.6.0,>=0.5.0->nbconvert->notebook>=4.4.1->widgetsnbextension~=3.5.0->ipywidgets>=7.0.0->gmaps) (1.10)\n",
      "Requirement already satisfied: nest-asyncio in c:\\users\\doris\\anaconda3\\lib\\site-packages (from nbclient<0.6.0,>=0.5.0->nbconvert->notebook>=4.4.1->widgetsnbextension~=3.5.0->ipywidgets>=7.0.0->gmaps) (1.4.2)\n",
      "Requirement already satisfied: webencodings in c:\\users\\doris\\anaconda3\\lib\\site-packages (from bleach->nbconvert->notebook>=4.4.1->widgetsnbextension~=3.5.0->ipywidgets>=7.0.0->gmaps) (0.5.1)\n",
      "Requirement already satisfied: packaging in c:\\users\\doris\\anaconda3\\lib\\site-packages (from bleach->nbconvert->notebook>=4.4.1->widgetsnbextension~=3.5.0->ipywidgets>=7.0.0->gmaps) (20.4)\n",
      "Requirement already satisfied: pyparsing>=2.0.2 in c:\\users\\doris\\anaconda3\\lib\\site-packages (from packaging->bleach->nbconvert->notebook>=4.4.1->widgetsnbextension~=3.5.0->ipywidgets>=7.0.0->gmaps) (2.4.7)\n"
     ]
    }
   ],
   "source": [
    "!pip install gmaps"
   ]
  },
  {
   "cell_type": "code",
   "execution_count": 2,
   "metadata": {},
   "outputs": [
    {
     "name": "stdout",
     "output_type": "stream",
     "text": [
      "Collecting googlemaps\n",
      "  Downloading googlemaps-4.4.2.tar.gz (29 kB)\n",
      "Requirement already satisfied: requests<3.0,>=2.20.0 in c:\\users\\doris\\anaconda3\\lib\\site-packages (from googlemaps) (2.24.0)\n",
      "Requirement already satisfied: urllib3!=1.25.0,!=1.25.1,<1.26,>=1.21.1 in c:\\users\\doris\\anaconda3\\lib\\site-packages (from requests<3.0,>=2.20.0->googlemaps) (1.25.11)\n",
      "Requirement already satisfied: certifi>=2017.4.17 in c:\\users\\doris\\anaconda3\\lib\\site-packages (from requests<3.0,>=2.20.0->googlemaps) (2020.12.5)\n",
      "Requirement already satisfied: chardet<4,>=3.0.2 in c:\\users\\doris\\anaconda3\\lib\\site-packages (from requests<3.0,>=2.20.0->googlemaps) (3.0.4)\n",
      "Requirement already satisfied: idna<3,>=2.5 in c:\\users\\doris\\anaconda3\\lib\\site-packages (from requests<3.0,>=2.20.0->googlemaps) (2.10)\n",
      "Building wheels for collected packages: googlemaps\n",
      "  Building wheel for googlemaps (setup.py): started\n",
      "  Building wheel for googlemaps (setup.py): finished with status 'done'\n",
      "  Created wheel for googlemaps: filename=googlemaps-4.4.2-py3-none-any.whl size=37864 sha256=2d9ec023a892c50ce0c2d47d7a0890c359e3a53719e7ae77633cf56e16af9d6f\n",
      "  Stored in directory: c:\\users\\doris\\appdata\\local\\pip\\cache\\wheels\\d5\\c3\\1e\\4dfd31f817ddc3e4f782e242988effd304edece671b12b563b\n",
      "Successfully built googlemaps\n",
      "Installing collected packages: googlemaps\n",
      "Successfully installed googlemaps-4.4.2\n"
     ]
    }
   ],
   "source": [
    "!pip install googlemaps"
   ]
  },
  {
   "cell_type": "code",
   "execution_count": null,
   "metadata": {},
   "outputs": [],
   "source": []
  }
 ],
 "metadata": {
  "kernelspec": {
   "display_name": "Python 3",
   "language": "python",
   "name": "python3"
  },
  "language_info": {
   "codemirror_mode": {
    "name": "ipython",
    "version": 3
   },
   "file_extension": ".py",
   "mimetype": "text/x-python",
   "name": "python",
   "nbconvert_exporter": "python",
   "pygments_lexer": "ipython3",
   "version": "3.8.5"
  }
 },
 "nbformat": 4,
 "nbformat_minor": 4
}
