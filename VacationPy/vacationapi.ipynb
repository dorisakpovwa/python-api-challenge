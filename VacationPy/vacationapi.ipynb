{
 "cells": [
  {
   "cell_type": "markdown",
   "metadata": {},
   "source": [
    "Section 1 - Import Dependencies"
   ]
  },
  {
   "cell_type": "code",
   "execution_count": 13,
   "metadata": {},
   "outputs": [],
   "source": [
    "#Import Libraries & Dependencies\n",
    "import pandas as pd\n",
    "import numpy as np\n",
    "import matplotlib.pyplot as plt\n",
    "import requests\n",
    "import os\n",
    "import gmaps\n",
    "import scipy.stats as sts\n",
    "from pprint import pprint\n",
    "import warnings\n",
    "warnings.filterwarnings('ignore')\n",
    "import ipywidgets as widgets\n",
    "from config import api_key_ggle\n",
    "\n",
    "%matplotlib inline"
   ]
  },
  {
   "cell_type": "markdown",
   "metadata": {},
   "source": [
    "Import files"
   ]
  },
  {
   "cell_type": "code",
   "execution_count": 14,
   "metadata": {},
   "outputs": [
    {
     "data": {
      "text/html": [
       "<div>\n",
       "<style scoped>\n",
       "    .dataframe tbody tr th:only-of-type {\n",
       "        vertical-align: middle;\n",
       "    }\n",
       "\n",
       "    .dataframe tbody tr th {\n",
       "        vertical-align: top;\n",
       "    }\n",
       "\n",
       "    .dataframe thead th {\n",
       "        text-align: right;\n",
       "    }\n",
       "</style>\n",
       "<table border=\"1\" class=\"dataframe\">\n",
       "  <thead>\n",
       "    <tr style=\"text-align: right;\">\n",
       "      <th></th>\n",
       "      <th>City</th>\n",
       "      <th>Lat</th>\n",
       "      <th>Lng</th>\n",
       "      <th>Max Temp</th>\n",
       "      <th>Humidity</th>\n",
       "      <th>Cloudiness</th>\n",
       "      <th>Wind Speed</th>\n",
       "      <th>Country</th>\n",
       "      <th>Date</th>\n",
       "    </tr>\n",
       "  </thead>\n",
       "  <tbody>\n",
       "    <tr>\n",
       "      <th>0</th>\n",
       "      <td>Provideniya</td>\n",
       "      <td>64.3833</td>\n",
       "      <td>-173.3000</td>\n",
       "      <td>-0.18</td>\n",
       "      <td>90</td>\n",
       "      <td>100</td>\n",
       "      <td>29.48</td>\n",
       "      <td>RU</td>\n",
       "      <td>1613180513</td>\n",
       "    </tr>\n",
       "    <tr>\n",
       "      <th>1</th>\n",
       "      <td>Khatanga</td>\n",
       "      <td>71.9667</td>\n",
       "      <td>102.5000</td>\n",
       "      <td>-26.37</td>\n",
       "      <td>86</td>\n",
       "      <td>100</td>\n",
       "      <td>8.12</td>\n",
       "      <td>RU</td>\n",
       "      <td>1613180513</td>\n",
       "    </tr>\n",
       "    <tr>\n",
       "      <th>2</th>\n",
       "      <td>Mehamn</td>\n",
       "      <td>71.0357</td>\n",
       "      <td>27.8492</td>\n",
       "      <td>16.05</td>\n",
       "      <td>95</td>\n",
       "      <td>53</td>\n",
       "      <td>6.76</td>\n",
       "      <td>NO</td>\n",
       "      <td>1613180514</td>\n",
       "    </tr>\n",
       "    <tr>\n",
       "      <th>3</th>\n",
       "      <td>Mugur-Aksy</td>\n",
       "      <td>50.3500</td>\n",
       "      <td>90.5000</td>\n",
       "      <td>-8.63</td>\n",
       "      <td>78</td>\n",
       "      <td>2</td>\n",
       "      <td>4.88</td>\n",
       "      <td>RU</td>\n",
       "      <td>1613180514</td>\n",
       "    </tr>\n",
       "    <tr>\n",
       "      <th>4</th>\n",
       "      <td>Aksarka</td>\n",
       "      <td>66.5606</td>\n",
       "      <td>67.7975</td>\n",
       "      <td>-23.39</td>\n",
       "      <td>86</td>\n",
       "      <td>100</td>\n",
       "      <td>4.56</td>\n",
       "      <td>RU</td>\n",
       "      <td>1613180515</td>\n",
       "    </tr>\n",
       "  </tbody>\n",
       "</table>\n",
       "</div>"
      ],
      "text/plain": [
       "          City      Lat       Lng  Max Temp  Humidity  Cloudiness  Wind Speed  \\\n",
       "0  Provideniya  64.3833 -173.3000     -0.18        90         100       29.48   \n",
       "1     Khatanga  71.9667  102.5000    -26.37        86         100        8.12   \n",
       "2       Mehamn  71.0357   27.8492     16.05        95          53        6.76   \n",
       "3   Mugur-Aksy  50.3500   90.5000     -8.63        78           2        4.88   \n",
       "4      Aksarka  66.5606   67.7975    -23.39        86         100        4.56   \n",
       "\n",
       "  Country        Date  \n",
       "0      RU  1613180513  \n",
       "1      RU  1613180513  \n",
       "2      NO  1613180514  \n",
       "3      RU  1613180514  \n",
       "4      RU  1613180515  "
      ]
     },
     "execution_count": 14,
     "metadata": {},
     "output_type": "execute_result"
    }
   ],
   "source": [
    "#Load CSV containing from weatherpy out put\n",
    "path = os.path.join('..','WeatherPy','Weatherhome.csv')\n",
    "data_df = pd.read_csv(path)\n",
    "data_df.head()"
   ]
  },
  {
   "cell_type": "code",
   "execution_count": 15,
   "metadata": {},
   "outputs": [],
   "source": [
    "# configure gmaps with API Key\n",
    "gmaps.configure(api_key=api_key_ggle)"
   ]
  },
  {
   "cell_type": "code",
   "execution_count": 16,
   "metadata": {},
   "outputs": [
    {
     "data": {
      "text/plain": [
       "0      90.0\n",
       "1      86.0\n",
       "2      95.0\n",
       "3      78.0\n",
       "4      86.0\n",
       "       ... \n",
       "565    48.0\n",
       "566    88.0\n",
       "567    69.0\n",
       "568    81.0\n",
       "569    39.0\n",
       "Name: Humidity, Length: 570, dtype: float64"
      ]
     },
     "execution_count": 16,
     "metadata": {},
     "output_type": "execute_result"
    }
   ],
   "source": [
    "#store 'Lat' and 'Lng' into locations\n",
    "locations = data_df[['Lat', 'Lng']].astype(float)\n",
    "#drop any NaN values in Humidity column\n",
    "#hum = data_df.dropna()\n",
    "humidity = data_df[\"Humidity\"].astype(float)\n",
    "#humidity = hum['Humidity'].astype(float)\n",
    "#data_df = data_df.dropna()\n",
    "humidity"
   ]
  },
  {
   "cell_type": "code",
   "execution_count": null,
   "metadata": {},
   "outputs": [],
   "source": []
  },
  {
   "cell_type": "code",
   "execution_count": 17,
   "metadata": {},
   "outputs": [
    {
     "data": {
      "application/vnd.jupyter.widget-view+json": {
       "model_id": "35bb0af7c47448a2a7842c0a61f2fb79",
       "version_major": 2,
       "version_minor": 0
      },
      "text/plain": [
       "Figure(layout=FigureLayout(height='420px'))"
      ]
     },
     "metadata": {},
     "output_type": "display_data"
    }
   ],
   "source": [
    "# create Heatmap Layer\n",
    "fig = gmaps.figure()\n",
    "heatmap_layer = gmaps.heatmap_layer(locations, weights=humidity, dissipating=False, max_intensity=100, point_radius = 1,)\n",
    "fig.add_layer(heatmap_layer)\n",
    "fig"
   ]
  },
  {
   "cell_type": "code",
   "execution_count": null,
   "metadata": {},
   "outputs": [],
   "source": []
  },
  {
   "cell_type": "code",
   "execution_count": null,
   "metadata": {},
   "outputs": [],
   "source": []
  },
  {
   "cell_type": "code",
   "execution_count": null,
   "metadata": {},
   "outputs": [],
   "source": []
  },
  {
   "cell_type": "code",
   "execution_count": null,
   "metadata": {},
   "outputs": [],
   "source": []
  },
  {
   "cell_type": "code",
   "execution_count": null,
   "metadata": {},
   "outputs": [],
   "source": []
  },
  {
   "cell_type": "code",
   "execution_count": null,
   "metadata": {},
   "outputs": [],
   "source": []
  },
  {
   "cell_type": "code",
   "execution_count": null,
   "metadata": {},
   "outputs": [],
   "source": []
  }
 ],
 "metadata": {
  "kernelspec": {
   "display_name": "Python 3",
   "language": "python",
   "name": "python3"
  },
  "language_info": {
   "codemirror_mode": {
    "name": "ipython",
    "version": 3
   },
   "file_extension": ".py",
   "mimetype": "text/x-python",
   "name": "python",
   "nbconvert_exporter": "python",
   "pygments_lexer": "ipython3",
   "version": "3.8.5"
  }
 },
 "nbformat": 4,
 "nbformat_minor": 4
}
